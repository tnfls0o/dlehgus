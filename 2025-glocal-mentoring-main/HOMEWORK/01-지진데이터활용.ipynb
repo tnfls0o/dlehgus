{
 "cells": [
  {
   "cell_type": "markdown",
   "metadata": {},
   "source": [
    "# 🌍 [예시 주제] 지진은 어디에서 자주 발생할까?(예시)\n",
    "\n",
    "USGS(미국 지질조사국) 데이터를 이용해 **아시아 지역의 지진 분포**를 시각화하고, \n",
    "**지진 규모의 빈도**를 분석하는 실습 과제입니다.\n",
    "\n",
    "## 🧭 실습 목표\n",
    "(여러분들의 아이디어를 추가)\n",
    "- 전 세계 지진 데이터 중 아시아 지역(위도 20~50, 경도 120~150)을 필터링\n",
    "- 지도에 지진 위치 표시 (folium)\n",
    "- 지진 규모의 분포를 히스토그램으로 시각화 (seaborn)\n"
   ]
  },
  {
   "cell_type": "code",
   "execution_count": null,
   "metadata": {},
   "outputs": [],
   "source": [
    "# 필요한 라이브러리 불러오기\n",
    "import pandas as pd\n",
    "import folium\n",
    "import seaborn as sns\n",
    "import matplotlib.pyplot as plt"
   ]
  },
  {
   "cell_type": "code",
   "execution_count": 1,
   "metadata": {},
   "outputs": [
    {
     "ename": "NameError",
     "evalue": "name 'pd' is not defined",
     "output_type": "error",
     "traceback": [
      "\u001b[31m---------------------------------------------------------------------------\u001b[39m",
      "\u001b[31mNameError\u001b[39m                                 Traceback (most recent call last)",
      "\u001b[36mCell\u001b[39m\u001b[36m \u001b[39m\u001b[32mIn[1]\u001b[39m\u001b[32m, line 3\u001b[39m\n\u001b[32m      1\u001b[39m \u001b[38;5;66;03m# 🌐 지진 데이터 불러오기 (7일간 규모 1.0 이상)\u001b[39;00m\n\u001b[32m      2\u001b[39m url = \u001b[33m\"\u001b[39m\u001b[33mhttps://earthquake.usgs.gov/earthquakes/feed/v1.0/summary/1.0_week.csv\u001b[39m\u001b[33m\"\u001b[39m\n\u001b[32m----> \u001b[39m\u001b[32m3\u001b[39m df = \u001b[43mpd\u001b[49m.read_csv(url)\n\u001b[32m      4\u001b[39m df.head()\n",
      "\u001b[31mNameError\u001b[39m: name 'pd' is not defined"
     ]
    }
   ],
   "source": [
    "# 🌐 지진 데이터 불러오기 (7일간 규모 1.0 이상)\n",
    "url = \"https://earthquake.usgs.gov/earthquakes/feed/v1.0/summary/1.0_week.csv\"\n",
    "df = pd.read_csv(url)\n",
    "df.head()"
   ]
  },
  {
   "cell_type": "code",
   "execution_count": 2,
   "metadata": {},
   "outputs": [
    {
     "ename": "NameError",
     "evalue": "name 'df' is not defined",
     "output_type": "error",
     "traceback": [
      "\u001b[31m---------------------------------------------------------------------------\u001b[39m",
      "\u001b[31mNameError\u001b[39m                                 Traceback (most recent call last)",
      "\u001b[36mCell\u001b[39m\u001b[36m \u001b[39m\u001b[32mIn[2]\u001b[39m\u001b[32m, line 2\u001b[39m\n\u001b[32m      1\u001b[39m \u001b[38;5;66;03m# 아시아 인근 지역 필터링\u001b[39;00m\n\u001b[32m----> \u001b[39m\u001b[32m2\u001b[39m df_asia = \u001b[43mdf\u001b[49m[(df[\u001b[33m'\u001b[39m\u001b[33mlatitude\u001b[39m\u001b[33m'\u001b[39m] > \u001b[32m20\u001b[39m) & (df[\u001b[33m'\u001b[39m\u001b[33mlatitude\u001b[39m\u001b[33m'\u001b[39m] < \u001b[32m50\u001b[39m) &\n\u001b[32m      3\u001b[39m              (df[\u001b[33m'\u001b[39m\u001b[33mlongitude\u001b[39m\u001b[33m'\u001b[39m] > \u001b[32m120\u001b[39m) & (df[\u001b[33m'\u001b[39m\u001b[33mlongitude\u001b[39m\u001b[33m'\u001b[39m] < \u001b[32m150\u001b[39m)]\n\u001b[32m      4\u001b[39m df_asia = df_asia.dropna(subset=[\u001b[33m'\u001b[39m\u001b[33mmag\u001b[39m\u001b[33m'\u001b[39m])  \u001b[38;5;66;03m# 규모 없는 행 제거\u001b[39;00m\n\u001b[32m      5\u001b[39m df_asia[[\u001b[33m'\u001b[39m\u001b[33mlatitude\u001b[39m\u001b[33m'\u001b[39m, \u001b[33m'\u001b[39m\u001b[33mlongitude\u001b[39m\u001b[33m'\u001b[39m, \u001b[33m'\u001b[39m\u001b[33mmag\u001b[39m\u001b[33m'\u001b[39m]].head()\n",
      "\u001b[31mNameError\u001b[39m: name 'df' is not defined"
     ]
    }
   ],
   "source": [
    "# 아시아 인근 지역 필터링\n",
    "df_asia = df[(df['latitude'] > 20) & (df['latitude'] < 50) &\n",
    "             (df['longitude'] > 120) & (df['longitude'] < 150)]\n",
    "df_asia = df_asia.dropna(subset=['mag'])  # 규모 없는 행 제거\n",
    "df_asia[['latitude', 'longitude', 'mag']].head()"
   ]
  },
  {
   "cell_type": "code",
   "execution_count": 3,
   "metadata": {},
   "outputs": [
    {
     "ename": "NameError",
     "evalue": "name 'folium' is not defined",
     "output_type": "error",
     "traceback": [
      "\u001b[31m---------------------------------------------------------------------------\u001b[39m",
      "\u001b[31mNameError\u001b[39m                                 Traceback (most recent call last)",
      "\u001b[36mCell\u001b[39m\u001b[36m \u001b[39m\u001b[32mIn[3]\u001b[39m\u001b[32m, line 2\u001b[39m\n\u001b[32m      1\u001b[39m \u001b[38;5;66;03m# 지도 위에 지진 위치 시각화 (folium)\u001b[39;00m\n\u001b[32m----> \u001b[39m\u001b[32m2\u001b[39m \u001b[38;5;28mmap\u001b[39m = \u001b[43mfolium\u001b[49m.Map(location=[\u001b[32m35\u001b[39m, \u001b[32m135\u001b[39m], zoom_start=\u001b[32m4\u001b[39m)\n\u001b[32m      4\u001b[39m \u001b[38;5;28;01mfor\u001b[39;00m _, row \u001b[38;5;129;01min\u001b[39;00m df_asia.iterrows():\n\u001b[32m      5\u001b[39m     folium.CircleMarker(\n\u001b[32m      6\u001b[39m         location=[row[\u001b[33m'\u001b[39m\u001b[33mlatitude\u001b[39m\u001b[33m'\u001b[39m], row[\u001b[33m'\u001b[39m\u001b[33mlongitude\u001b[39m\u001b[33m'\u001b[39m]],\n\u001b[32m      7\u001b[39m         radius=row[\u001b[33m'\u001b[39m\u001b[33mmag\u001b[39m\u001b[33m'\u001b[39m] * \u001b[32m1.5\u001b[39m,\n\u001b[32m   (...)\u001b[39m\u001b[32m     10\u001b[39m         fill_opacity=\u001b[32m0.6\u001b[39m\n\u001b[32m     11\u001b[39m     ).add_to(\u001b[38;5;28mmap\u001b[39m)\n",
      "\u001b[31mNameError\u001b[39m: name 'folium' is not defined"
     ]
    }
   ],
   "source": [
    "# 지도 위에 지진 위치 시각화 (folium)\n",
    "map = folium.Map(location=[35, 135], zoom_start=4)\n",
    "\n",
    "for _, row in df_asia.iterrows():\n",
    "    folium.CircleMarker(\n",
    "        location=[row['latitude'], row['longitude']],\n",
    "        radius=row['mag'] * 1.5,\n",
    "        color='red' if row['mag'] > 5 else 'orange',\n",
    "        fill=True,\n",
    "        fill_opacity=0.6\n",
    "    ).add_to(map)\n",
    "\n",
    "map.save(\"earthquakes_map.html\")\n",
    "print(\"✅ 지진 위치 지도가 'earthquakes_map.html'로 저장되었습니다.\")"
   ]
  },
  {
   "cell_type": "code",
   "execution_count": 4,
   "metadata": {},
   "outputs": [
    {
     "ename": "NameError",
     "evalue": "name 'sns' is not defined",
     "output_type": "error",
     "traceback": [
      "\u001b[31m---------------------------------------------------------------------------\u001b[39m",
      "\u001b[31mNameError\u001b[39m                                 Traceback (most recent call last)",
      "\u001b[36mCell\u001b[39m\u001b[36m \u001b[39m\u001b[32mIn[4]\u001b[39m\u001b[32m, line 2\u001b[39m\n\u001b[32m      1\u001b[39m \u001b[38;5;66;03m# 📊 지진 규모 분포 시각화 (히스토그램)\u001b[39;00m\n\u001b[32m----> \u001b[39m\u001b[32m2\u001b[39m \u001b[43msns\u001b[49m.histplot(df_asia[\u001b[33m'\u001b[39m\u001b[33mmag\u001b[39m\u001b[33m'\u001b[39m], bins=\u001b[32m20\u001b[39m, kde=\u001b[38;5;28;01mTrue\u001b[39;00m)\n\u001b[32m      3\u001b[39m plt.title(\u001b[33m\"\u001b[39m\u001b[33m지진 규모 분포\u001b[39m\u001b[33m\"\u001b[39m)\n\u001b[32m      4\u001b[39m plt.xlabel(\u001b[33m\"\u001b[39m\u001b[33m규모 (Magnitude)\u001b[39m\u001b[33m\"\u001b[39m)\n",
      "\u001b[31mNameError\u001b[39m: name 'sns' is not defined"
     ]
    }
   ],
   "source": [
    "# 📊 지진 규모 분포 시각화 (히스토그램)\n",
    "sns.histplot(df_asia['mag'], bins=20, kde=True)\n",
    "plt.title(\"지진 규모 분포\")\n",
    "plt.xlabel(\"규모 (Magnitude)\")\n",
    "plt.ylabel(\"발생 빈도\")\n",
    "plt.grid(True)\n",
    "plt.show()"
   ]
  },
  {
   "cell_type": "markdown",
   "metadata": {},
   "source": [
    "## 📝 자유 탐구 추가 아이디어\n",
    "- 다른 지역(예: 칠레, 알래스카 등)으로 필터링 조건을 바꿔 비교\n",
    "- 지진이 자주 일어난 위치만 클러스터\n",
    "- 규모가 큰 지진만 따로 표시하는 지도 생성\n",
    "- `folium.Popup()`을 사용해 각 지진의 위치에 설명을 추가"
   ]
  }
 ],
 "metadata": {
  "kernelspec": {
   "display_name": "Python 3",
   "language": "python",
   "name": "python3"
  },
  "language_info": {
   "codemirror_mode": {
    "name": "ipython",
    "version": 3
   },
   "file_extension": ".py",
   "mimetype": "text/x-python",
   "name": "python",
   "nbconvert_exporter": "python",
   "pygments_lexer": "ipython3",
   "version": "3.13.3"
  }
 },
 "nbformat": 4,
 "nbformat_minor": 2
}
